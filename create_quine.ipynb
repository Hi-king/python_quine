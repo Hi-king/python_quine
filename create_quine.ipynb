{
 "cells": [
  {
   "cell_type": "markdown",
   "metadata": {},
   "source": [
    "## AAをasciiに\n",
    "\n",
    "https://shoponpon.hatenablog.com/entry/2019/12/01/121046\n",
    "\n",
    "https://tool-taro.com/image_to_ascii/"
   ]
  },
  {
   "cell_type": "code",
   "execution_count": 1,
   "metadata": {},
   "outputs": [],
   "source": [
    "aaraw = r'''\n",
    "MMMMMMMMMMMMMMMMMMMMMMMMMMMMMMMMMMMMMMMMMMMMMMMMMMMMMMMMMMMMMMMMMMMMMMMMMMMMMMMMMMMMMMMMMMMMMMMMMMMM\n",
    "MMMMMMMMMMMMMMMMMMMMMMMMMMMMMMMMMMMMMMMMMMMMMMMMMMMMMMMMMMMMMMMMMMMMMMMMMMMMMMMMMMMMMMMMMMMMMMMMMMMM\n",
    "MMMMMMMMMMMMMMMMMMMMMMMMMMMMMMMMMMMMMMMMMMMMMMMMMMMMMMMMMMMMMMMMMMMMMMMMMMMMMMMMMMMMMMMMMMMMMMMMMMMM\n",
    "MMMMMMMMMMMMMMMMMMMMMMMMMMMMMMMMMMMMMMMMMMMMMMMMMMMMMMMMMMMMMMMMMMMMMMMMMMMMMMMMMMMMMMMMMMMMMMMMMMMM\n",
    "MMMMMMMMMMMMMMMMMMMMMMMMMMMMMMMMMMMMMMMMMMMMMMMMMMMMMMMMMMMMMMMMMMMMMMMMMMMMMMMMMMMMMMMMMMMMMMMMMMMM\n",
    "MMMMMMMMMMMMMMMMMMMMMMMMMMMMMMMMMMMMMMMMMMMMMMMMMMMMMMMMMMMMMMMMMMMMMMMMMMMMMMMMMMMMMMMMMMMMMMMMMMMM\n",
    "MMMMMMMMMMMMMMMM``_!???!``WMMMMMMMMMMMMMMMMMMMMM!`~????!``MMMMMMMMMMH\"^     ?TMMMMMMMMMMMMMMMMMMMMMM\n",
    "MMMMMMMMMMMMMMMMMMMa.      WMMMMMMMMMMMMMMMMMMM'     .MMMMMMMMMMMM\"            ?MMMMMMMMMMMMMMMMMMMM\n",
    "MMMMMMMMMMMMMMMMMMMMF       MMMMMMMMMMMMMMMMMM^      dMMMMMMMMMMD .JMMMMNJ      JMMMMMMMMMMMMMMMMMMM\n",
    "MMMMMMMMMMMMMMMMMMMMF       .MMMMMMMMMMMMMMMM$       (MMMMMMMMMMNMMMMMMMMMN.    .MMMMMMMMMMMMMMMMMMM\n",
    "MMMMMMMMMMMMMMMMMMMMF .,     ,MMMMMMMMMMMMMMF .R     ,MMMMMMMMMMMMMMMMMMMMM[    JMMMMMMMMMMMMMMMMMMM\n",
    "MMMMMMMMMMMMMMMMMMMM] .N.     (MMMMMMMMMMMMF  d#     .MMMMMMMMMMMMMMMMMMMMM`   (MMMMMMMMMMMMMMMMMMMM\n",
    "MMMMMMMMMMMMMMMMMMMM} (MN      ?MMMMMMMMMM@  JMN      MMMMMMMMMMMMMMMMMMM@` ..MMMMMMMMMMMMMMMMMMMMMM\n",
    "MMMMMMMMMMMMMMMMMMMM  dMMb      4MMMMMMMM#  -MMM.     MMMMMMMMMMMMMMMMM\"` ,THMMMMMMMMMMMMMMMMMMMMMMM\n",
    "MMMMMMMMMMMMMMMMMMM#  MMMMb      WMMMMMMM` .MMMM;     dMMMMMMMMMMMM\"!          .TMMMMMMMMMMMMMMMMMMM\n",
    "MMMMMMMMMMMMMMMMMMMF  MMMMMp      MMMMMM' .MMMMM[     JMMMMMMMMMMMNgMMMMMa,      ,MMMMMMMMNMMMMNMMMM\n",
    "MMMMMMMMMMMMMMMMMMM] .MMMMMM,     .MMMM^ .MMMMMM]     ,MMMMMMMMMMMMMMMMMMMMh      (MMMMMMMMMMMMMMMMM\n",
    "MMMMMMMMMMMMNMMMMMM: .MMMMMMN,     ,MMt .MMMMMMMF    `.MMMMMMNMMMMMMMMMMMMMMb     ,MMMMMMMMMMMMMMMMM\n",
    "MMMMMMMMMMMMMMMMMMM  .MMMMMMMN.     ,F .MMMMMMMM@      MMMMMMMMMMMMMMMMMMMMM#     -MMMMMMMMMMMMMMMMM\n",
    "MMMMMMMMMMMMMMMMMM#  (MMMMMMMMN        dMMMMMMMM#      MMMMMMMMMMMMMMMMMMMMM#    .MMMMMMMMMMMMMMMMMM\n",
    "MMMMMMMMMMMMMMMMMMF  dMMMMMMMMMb      JMMMMMMMMMN      dMMMMMMMMMMMMMMMMMMMM^  `.MMMMMMMMMMMMMMMMMMM\n",
    "MMMMMMMMMMMMMMMMMM'  dMMMMMMMMMMp    (MMMMMMMMMM#  `   JMMMMMM]  ?MMMMMMMMM^  .uMMMMMMMMMNMMMMNMMMMM\n",
    "MMMMMMMMMMMNMM\"\"^     (\"\"TMMMMMMM|  .MMMMMMMM\"\"\"`       -\"\"4MMN,   7\"MM\"\"! ..MMMMMMMMMMMMMMMMMMMMMMM\n",
    "MMMMMMMMMMMMMNNNMMMMMMMNNNMMMMMMMM-.MMMMMMMMMNNNMMMMMMMMNNNMMMMMNg-.....gMMMMMMMMMMMMMMMMMMMMMMMMMMM\n",
    "MMMMMMMMMMMMMMMMMMMMMMMMMMMMMMMMMMMMMMMMMMMMMMMMMMMMMMMMMMMMMMMMMMMMMMMMMMMMMMMMMMMMMMMMMMMMMMMMMMMM\n",
    "MMMMMMMMMMMMMMMMMMMMMMMMMMMMMMMMMMMMMMMMMMMMMMMMMMMMMMMMMMMMMMMMMMMMMMMMMMMMMMMMMMMMMMMMMMMMMMMMMMMM\n",
    "MMMMMMMMMMMMMMMMMMMMMMMMMMMMMMMMMMMMMMMMMMMMMMMMMMMMMMMMMMMMMMMMMMMMMMMMMMMMMMMMMMMMMMMMMMMMMMMMMMMM\n",
    "MMMMMMMMMMMMMMMMMMMMMMMMMMMMMMMMMMMMMMMMMMMMMMMMMMMMMMMMMMMMMMMMMMMMMMMMMMMMMMMMMMMMMMMMMMMMMMMMMMMM\n",
    "MMMMMMMMMMMMMMMMMMMMMMMMMMMMMMMMMMMMMMMMMMMMMMMMMMMMMMMMMMMMMMMMMMMMMMMMMMMMMMMMMMMMMMMMMNMMMMNMMMMM\n",
    "'''"
   ]
  },
  {
   "cell_type": "code",
   "execution_count": 2,
   "metadata": {},
   "outputs": [],
   "source": [
    "import re\n",
    "chrs = \"^(~:\"\n",
    "aa = aaraw.replace(\" \",\"0\").replace(\"`\",\"0\").replace(\".\",\"0\").replace(\"\\\"\",\"0\").replace(\"]\",\"0\").replace(\"!\",\"0\").replace(\"?\",\"0\").replace(\"_\",\"0\")\n",
    "for c in chrs:\n",
    "    aa = aa.replace(c,\"0\")\n",
    "# 開業文字以外の文字列を0に置換\n",
    "aa = re.sub(r\"[^0\\n`]\",\"1\",aa)"
   ]
  },
  {
   "cell_type": "code",
   "execution_count": 3,
   "metadata": {},
   "outputs": [
    {
     "name": "stdout",
     "output_type": "stream",
     "text": [
      "\n",
      "1111111111111111111111111111111111111111111111111111111111111111111111111111111111111111111111111111\n",
      "1111111111111111111111111111111111111111111111111111111111111111111111111111111111111111111111111111\n",
      "1111111111111111111111111111111111111111111111111111111111111111111111111111111111111111111111111111\n",
      "1111111111111111111111111111111111111111111111111111111111111111111111111111111111111111111111111111\n",
      "1111111111111111111111111111111111111111111111111111111111111111111111111111111111111111111111111111\n",
      "1111111111111111111111111111111111111111111111111111111111111111111111111111111111111111111111111111\n",
      "1111111111111111000000000011111111111111111111110000000000111111111110000000011111111111111111111111\n",
      "1111111111111111111100000001111111111111111111110000001111111111110000000000000011111111111111111111\n",
      "1111111111111111111110000000111111111111111111000000011111111111100111111100000011111111111111111111\n",
      "1111111111111111111110000000011111111111111111000000001111111111111111111110000001111111111111111111\n",
      "1111111111111111111110010000011111111111111110010000011111111111111111111111000011111111111111111111\n",
      "1111111111111111111100010000000111111111111100110000001111111111111111111110000011111111111111111111\n",
      "1111111111111111111110011000000011111111111001110000001111111111111111111100001111111111111111111111\n",
      "1111111111111111111100111100000011111111110011110000001111111111111111100011111111111111111111111111\n",
      "1111111111111111111100111110000001111111100011111000001111111111111000000000000011111111111111111111\n",
      "1111111111111111111100111111000000111111100111111000001111111111111111111110000001111111111111111111\n",
      "1111111111111111111000111111100000011110001111110000001111111111111111111111000000011111111111111111\n",
      "1111111111111111111000111111110000011110011111111000000111111111111111111111100000111111111111111111\n",
      "1111111111111111111000111111110000001100111111111000000111111111111111111111100000111111111111111111\n",
      "1111111111111111111000111111111000000001111111111000000111111111111111111111100000111111111111111111\n",
      "1111111111111111111001111111111100000011111111111000000111111111111111111111000001111111111111111111\n",
      "1111111111111111111001111111111110000011111111111000000111111100001111111110000111111111111111111111\n",
      "1111111111111100000000000111111111000111111110000000000010011111000101100000011111111111111111111111\n",
      "1111111111111111111111111111111111101111111111111111111111111111111000001111111111111111111111111111\n",
      "1111111111111111111111111111111111111111111111111111111111111111111111111111111111111111111111111111\n",
      "1111111111111111111111111111111111111111111111111111111111111111111111111111111111111111111111111111\n",
      "1111111111111111111111111111111111111111111111111111111111111111111111111111111111111111111111111111\n",
      "1111111111111111111111111111111111111111111111111111111111111111111111111111111111111111111111111111\n",
      "1111111111111111111111111111111111111111111111111111111111111111111111111111111111111111111111111111\n",
      "\n"
     ]
    }
   ],
   "source": [
    "print(aa)"
   ]
  },
  {
   "cell_type": "markdown",
   "metadata": {},
   "source": [
    "## プログラムの埋めこみ"
   ]
  },
  {
   "cell_type": "code",
   "execution_count": 4,
   "metadata": {},
   "outputs": [],
   "source": [
    "import base64\n",
    "import zlib\n",
    "def decode_base64_and_inflate( b64string ):\n",
    "    decoded_data = base64.b64decode( b64string )\n",
    "    return zlib.decompress( decoded_data , -15).decode()\n",
    "\n",
    "def deflate_and_base64_encode( string_val ):\n",
    "    zlibbed_str = zlib.compress( string_val )\n",
    "    compressed_string = zlibbed_str[2:-4]\n",
    "    return base64.b64encode( compressed_string )"
   ]
  },
  {
   "cell_type": "code",
   "execution_count": 5,
   "metadata": {},
   "outputs": [],
   "source": [
    "encodedaa = deflate_and_base64_encode(aa.encode()).decode()"
   ]
  },
  {
   "cell_type": "code",
   "execution_count": 6,
   "metadata": {},
   "outputs": [],
   "source": [
    "x = \"\"\"exec('''m=lambda_x:exec(\"\".join(x.split()).replace(\"~\",chr(32)),globals())'''.replace(\"_\",chr(32)));m(\\\"\\\"\\\"import~base64~as~b6;import~zlib;tr=lambda~x,y,z:~(y~if~x~else~z);dba=lambda~x:zlib.decompress(b6.b64decode(x),-15).decode();a=1;lme=lambda~x:list(map(lambda~x:tr(x==\"1\",1,0),x));s=\"{}\";di=zlib.decompress(b6.b64decode(\\\"\"\"\"+encodedaa+\"\"\"\\\"),-15).decode();print(\"\".join([tr(c==\"1\",b6.b64decode(s.encode(\"utf-8\")).decode(\"utf-8\").format(s)[sum(lme(di)[:j])],tr(c==\"0\",chr(32),c))for(j,c)in(enumerate(di))]))\\\"\\\"\\\")#\"\"\"\\\n",
    "    +\"#\"*40\\\n",
    "    +\"\"\"#we_are_hiring=requests.get(\"https://jobs.m3.com/engineer/\")\"\"\"\\\n",
    "    +\"#\"*400\n",
    "\n",
    "# x = \"\"\"me=lambda xxx:exec(\"\".join(xxx.split()).replace(\"~\",chr(32)),globals());me(\\\"\\\"\\\"import~base64~as~b6;import~zlib;tr=lambda~x,y,z:~(y~if~x~else~z);dba=lambda~x:zlib.decompress(b6.b64decode(x),-15).decode();a=1;lme=lambda~x:list(map(lambda~x:tr(x==\"1\",1,0),x));s=\"{}\";di=zlib.decompress(b6.b64decode(\\\"\"\"\"+encodedaa+\"\"\"\\\"),-15).decode();print(\"\".join([tr(c==\"1\",b6.b64decode(s.encode(\"utf-8\")).decode(\"utf-8\").format(s)[sum(lme(di)[:j])],tr(c==\"0\",chr(32),c))for(j,c)in(enumerate(di))]))\\\"\\\"\\\")#\"\"\"\\\n",
    "#     +\"\"\"#we_are_hiring=requests.get(\"https://jobs.m3.com/engineer/\")\"\"\"\\\n",
    "#     +\"#\"*500\n",
    "xx = x.format(\n",
    "    base64.b64encode(x.encode()).decode()\n",
    ")"
   ]
  },
  {
   "cell_type": "code",
   "execution_count": 7,
   "metadata": {},
   "outputs": [],
   "source": [
    "a=-1;b=len(xx)-1;\n",
    "\n",
    "quine = \"\".join([((xx[(a:=min(a+1,b))]) if c==\"1\" else (\" \" if c==\"0\" else c)) for c in decode_base64_and_inflate(\n",
    "    encodedaa\n",
    ")])"
   ]
  },
  {
   "cell_type": "code",
   "execution_count": 8,
   "metadata": {},
   "outputs": [
    {
     "name": "stdout",
     "output_type": "stream",
     "text": [
      "\n",
      "exec('''m=lambda_x:exec(\"\".join(x.split()).replace(\"~\",chr(32)),globals())'''.replace(\"_\",chr(32)));\n",
      "m(\"\"\"import~base64~as~b6;import~zlib;tr=lambda~x,y,z:~(y~if~x~else~z);dba=lambda~x:zlib.decompress(b\n",
      "6.b64decode(x),-15).decode();a=1;lme=lambda~x:list(map(lambda~x:tr(x==\"1\",1,0),x));s=\"ZXhlYygnJydtPW\n",
      "xhbWJkYV94OmV4ZWMoIiIuam9pbih4LnNwbGl0KCkpLnJlcGxhY2UoIn4iLGNocigzMikpLGdsb2JhbHMoKSknJycucmVwbGFjZS\n",
      "giXyIsY2hyKDMyKSkpO20oIiIiaW1wb3J0fmJhc2U2NH5hc35iNjtpbXBvcnR+emxpYjt0cj1sYW1iZGF+eCx5LHo6fih5fmlmfn\n",
      "h+ZWxzZX56KTtkYmE9bGFtYmRhfng6emxpYi5kZWNvbXByZXNzKGI2LmI2NGRlY29kZSh4KSwtMTUpLmRlY29kZSgpO2E9MTtsbW\n",
      "U9bGFtYmRhfng6bG          lzdChtYXAobGFtYmRhfng6          dHIoeD09IjE        iLDEsMCkseCkpO3M9Int9Ij\n",
      "tkaT16bGliLmRlY29tcH       Jlc3MoYjYuYjY0ZGVjb2R      lKCI3WlZCRXN              RZ0NBVHZlUTM4LzNPcFR\n",
      "TcUtNQXdtbGQzRGx0d2NI       RnNNeGsxL0VOdUNMTW       dSMGdJYllKNW  JjQ1hNR      WxNeXhEUWtwNEJFR3oyR\n",
      "VJBYzlselNWUVJRYU10MV        FrSjU5RTNoaW4yRlZ        5VFRFckNaT0paQzh4S1NT      dGpHcDFFN0FnQUxpMWh\n",
      "PcmVzQ0RGcjZtRHJaQmhC  d     SsxVjEyNGNzbUVBd  3     BNY2toYWlEbGZqV3RjZ1lpb    HZFRkNMamlyMEc4andvb\n",
      "G80WUVwMnM1VnpXRU93a   H       ErUENKem5TL05  zc      i9Obk12STduTEhjMG0vUE     VidnlBVXNnTT0iKSwtMT\n",
      "UpLmRlY29kZSgpO3ByaW5  0K       CIiLmpvaW4o  W3R      yKGM9PSIxIixiNi5iNjR    kZWNvZGUocy5lbmNvZGUoI\n",
      "nV0Zi04IikpLmRlY29kZ  Sgid      XRmLTgiKS5  mb3J      tYXQocylbc3VtKGxt   ZShkaSlbOmpdKV0sdHIoYz09Ij\n",
      "AiLGNocigzMiksYykpZm  9yKGo      sYylpbih   lbnVt     ZXJhdGUoZGkpK             V0pKSIiIikjIyMjIyMjI\n",
      "yMjIyMjIyMjIyMjIyMjI  yMjIyM      jIyMjIy  MjIyMj     IyMjIyN3ZV9hcmVfaGlya      W5nPXJlcXVlc3RzLmdl\n",
      "dCgiaHR0cHM6Ly9qb2J   zLm0zLm      NvbS   9lbmdp      bmVlci8iKSMjIyMjIyMjIy       MjIyMjIyMjIyMjIyM\n",
      "jIyMjIyMjIyMjIyMjIy   MjIyMjIy     MjIy  MjIyMjIy      MjIyMjIyMjIyMjIyMjIyMj     IyMjIyMjIyMjIyMjIy\n",
      "MjIyMjIyMjIyMjIyMjI   yMjIyMjI      yM  jIyMjIyMj      IyMjIyMjIyMjIyMjIyMjIy     MjIyMjIyMjIyMjIyMj\n",
      "IyMjIyMjIyMjIyMjIyM   jIyMjIyMj        IyMjIyMjIy      MjIyMjIyMjIyMjIyMjIyMj     IyMjIyMjIyMjIyMjIy\n",
      "MjIyMjIyMjIyMjIyMjI  yMjIyMjIyMj      IyMjIyMjIyM      jIyMjIyMjIyMjIyMjIyMj     IyMjIyMjIyMjIyMjIyM\n",
      "jIyMjIyMjIyMjIyMjIy  MjIyMjIyMjIy     MjIyMjIyMjI      yMjIyMj    IyMjIyMjI    yMjIyMjIyMjIyMjIyMjIy\n",
      "MjIyMjIyMjIyMj           IyMjIyMjI   yMjIyMjI           y  MjIyM   j Iy      MjIyMjIyMjIyMjIyMjIyMjI\n",
      "yMjIyMjIyMjIyMjIyMjIyMjIyMjIyMjIyMj IyMjIyMjIyM=\";di=zlib.decompres     s(b6.b64decode(\"7ZVBEsQgCATv\n",
      "eQ38/3OpTSqKMAwmld3DltwcHFsMxk1/ENuCLMgR0gIbYJ5bcCXMElMyxDQkp4BEGz2ERAc9lzSVQRQaMt1QkJ59E3hin2FVyTTE\n",
      "rCZOJZC8xKSStjGp1E7AgALi1hOresCDFr6mDrZBhBu+1V124csmEAwpMckhaiDlfjWtcgYilvEFCLjir0G8jwolo4YEp2s5VzWE\n",
      "Owhq+PCJznS/Nsr/NnMvI7nLHc0m/PEbvyAUsgM=\"),-15).decode();print(\"\".join([tr(c==\"1\",b6.b64decode(s.enc\n",
      "ode(\"utf-8\")).decode(\"utf-8\").format(s)[sum(lme(di)[:j])],tr(c==\"0\",chr(32),c))for(j,c)in(enumerate(\n",
      "di))]))\"\"\")##########################################we_are_hiring=requests.get(\"https://jobs.m3.com\n",
      "\n"
     ]
    }
   ],
   "source": [
    "print(quine)"
   ]
  },
  {
   "cell_type": "code",
   "execution_count": 9,
   "metadata": {},
   "outputs": [
    {
     "name": "stdout",
     "output_type": "stream",
     "text": [
      "\n",
      "exec('''m=lambda_x:exec(\"\".join(x.split()).replace(\"~\",chr(32)),globals())'''.replace(\"_\",chr(32)));\n",
      "m(\"\"\"import~base64~as~b6;import~zlib;tr=lambda~x,y,z:~(y~if~x~else~z);dba=lambda~x:zlib.decompress(b\n",
      "6.b64decode(x),-15).decode();a=1;lme=lambda~x:list(map(lambda~x:tr(x==\"1\",1,0),x));s=\"ZXhlYygnJydtPW\n",
      "xhbWJkYV94OmV4ZWMoIiIuam9pbih4LnNwbGl0KCkpLnJlcGxhY2UoIn4iLGNocigzMikpLGdsb2JhbHMoKSknJycucmVwbGFjZS\n",
      "giXyIsY2hyKDMyKSkpO20oIiIiaW1wb3J0fmJhc2U2NH5hc35iNjtpbXBvcnR+emxpYjt0cj1sYW1iZGF+eCx5LHo6fih5fmlmfn\n",
      "h+ZWxzZX56KTtkYmE9bGFtYmRhfng6emxpYi5kZWNvbXByZXNzKGI2LmI2NGRlY29kZSh4KSwtMTUpLmRlY29kZSgpO2E9MTtsbW\n",
      "U9bGFtYmRhfng6bG          lzdChtYXAobGFtYmRhfng6          dHIoeD09IjE        iLDEsMCkseCkpO3M9Int9Ij\n",
      "tkaT16bGliLmRlY29tcH       Jlc3MoYjYuYjY0ZGVjb2R      lKCI3WlZCRXN              RZ0NBVHZlUTM4LzNPcFR\n",
      "TcUtNQXdtbGQzRGx0d2NI       RnNNeGsxL0VOdUNMTW       dSMGdJYllKNW  JjQ1hNR      WxNeXhEUWtwNEJFR3oyR\n",
      "VJBYzlselNWUVJRYU10MV        FrSjU5RTNoaW4yRlZ        5VFRFckNaT0paQzh4S1NT      dGpHcDFFN0FnQUxpMWh\n",
      "PcmVzQ0RGcjZtRHJaQmhC  d     SsxVjEyNGNzbUVBd  3     BNY2toYWlEbGZqV3RjZ1lpb    HZFRkNMamlyMEc4andvb\n",
      "G80WUVwMnM1VnpXRU93a   H       ErUENKem5TL05  zc      i9Obk12STduTEhjMG0vUE     VidnlBVXNnTT0iKSwtMT\n",
      "UpLmRlY29kZSgpO3ByaW5  0K       CIiLmpvaW4o  W3R      yKGM9PSIxIixiNi5iNjR    kZWNvZGUocy5lbmNvZGUoI\n",
      "nV0Zi04IikpLmRlY29kZ  Sgid      XRmLTgiKS5  mb3J      tYXQocylbc3VtKGxt   ZShkaSlbOmpdKV0sdHIoYz09Ij\n",
      "AiLGNocigzMiksYykpZm  9yKGo      sYylpbih   lbnVt     ZXJhdGUoZGkpK             V0pKSIiIikjIyMjIyMjI\n",
      "yMjIyMjIyMjIyMjIyMjI  yMjIyM      jIyMjIy  MjIyMj     IyMjIyN3ZV9hcmVfaGlya      W5nPXJlcXVlc3RzLmdl\n",
      "dCgiaHR0cHM6Ly9qb2J   zLm0zLm      NvbS   9lbmdp      bmVlci8iKSMjIyMjIyMjIy       MjIyMjIyMjIyMjIyM\n",
      "jIyMjIyMjIyMjIyMjIy   MjIyMjIy     MjIy  MjIyMjIy      MjIyMjIyMjIyMjIyMjIyMj     IyMjIyMjIyMjIyMjIy\n",
      "MjIyMjIyMjIyMjIyMjI   yMjIyMjI      yM  jIyMjIyMj      IyMjIyMjIyMjIyMjIyMjIy     MjIyMjIyMjIyMjIyMj\n",
      "IyMjIyMjIyMjIyMjIyM   jIyMjIyMj        IyMjIyMjIy      MjIyMjIyMjIyMjIyMjIyMj     IyMjIyMjIyMjIyMjIy\n",
      "MjIyMjIyMjIyMjIyMjI  yMjIyMjIyMj      IyMjIyMjIyM      jIyMjIyMjIyMjIyMjIyMj     IyMjIyMjIyMjIyMjIyM\n",
      "jIyMjIyMjIyMjIyMjIy  MjIyMjIyMjIy     MjIyMjIyMjI      yMjIyMj    IyMjIyMjI    yMjIyMjIyMjIyMjIyMjIy\n",
      "MjIyMjIyMjIyMj           IyMjIyMjI   yMjIyMjI           y  MjIyM   j Iy      MjIyMjIyMjIyMjIyMjIyMjI\n",
      "yMjIyMjIyMjIyMjIyMjIyMjIyMjIyMjIyMj IyMjIyMjIyM=\";di=zlib.decompres     s(b6.b64decode(\"7ZVBEsQgCATv\n",
      "eQ38/3OpTSqKMAwmld3DltwcHFsMxk1/ENuCLMgR0gIbYJ5bcCXMElMyxDQkp4BEGz2ERAc9lzSVQRQaMt1QkJ59E3hin2FVyTTE\n",
      "rCZOJZC8xKSStjGp1E7AgALi1hOresCDFr6mDrZBhBu+1V124csmEAwpMckhaiDlfjWtcgYilvEFCLjir0G8jwolo4YEp2s5VzWE\n",
      "Owhq+PCJznS/Nsr/NnMvI7nLHc0m/PEbvyAUsgM=\"),-15).decode();print(\"\".join([tr(c==\"1\",b6.b64decode(s.enc\n",
      "ode(\"utf-8\")).decode(\"utf-8\").format(s)[sum(lme(di)[:j])],tr(c==\"0\",chr(32),c))for(j,c)in(enumerate(\n",
      "di))]))\"\"\")##########################################we_are_hiring=requests.get(\"https://jobs.m3.com\n",
      "\n"
     ]
    }
   ],
   "source": [
    "exec(quine)"
   ]
  }
 ],
 "metadata": {
  "kernelspec": {
   "display_name": "Python 3",
   "language": "python",
   "name": "python3"
  },
  "language_info": {
   "codemirror_mode": {
    "name": "ipython",
    "version": 3
   },
   "file_extension": ".py",
   "mimetype": "text/x-python",
   "name": "python",
   "nbconvert_exporter": "python",
   "pygments_lexer": "ipython3",
   "version": "3.12.1"
  }
 },
 "nbformat": 4,
 "nbformat_minor": 2
}
